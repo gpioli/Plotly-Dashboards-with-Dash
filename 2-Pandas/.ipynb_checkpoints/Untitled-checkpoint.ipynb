{
 "cells": [
  {
   "cell_type": "code",
   "execution_count": 1,
   "id": "9cb448ad",
   "metadata": {},
   "outputs": [],
   "source": [
    "import numpy as np\n",
    "import pandas as pd"
   ]
  },
  {
   "cell_type": "code",
   "execution_count": 2,
   "id": "0a5a5a8c",
   "metadata": {},
   "outputs": [
    {
     "name": "stdout",
     "output_type": "stream",
     "text": [
      "     Name  Salary  Age\n",
      "0    John   50000   34\n",
      "1   Sally  120000   45\n",
      "2  Alyssa   80000   27\n"
     ]
    }
   ],
   "source": [
    "# Reading a CSV\n",
    "df = pd.read_csv('salaries.csv')\n",
    "print(df)"
   ]
  },
  {
   "cell_type": "code",
   "execution_count": 3,
   "id": "03fccb1f",
   "metadata": {},
   "outputs": [
    {
     "name": "stdout",
     "output_type": "stream",
     "text": [
      "\n",
      "Selecting columns\n",
      "0     50000\n",
      "1    120000\n",
      "2     80000\n",
      "Name: Salary, dtype: int64\n"
     ]
    }
   ],
   "source": [
    "# Selecting columns:\n",
    "print('')\n",
    "print('Selecting columns')\n",
    "print(df['Salary'])\n",
    "# notice the index positions are numbered for us\n"
   ]
  },
  {
   "cell_type": "code",
   "execution_count": 4,
   "id": "1c7e9c27",
   "metadata": {},
   "outputs": [
    {
     "name": "stdout",
     "output_type": "stream",
     "text": [
      "\n",
      "Grabbing multiple columns\n",
      "     Name  Salary\n",
      "0    John   50000\n",
      "1   Sally  120000\n",
      "2  Alyssa   80000\n"
     ]
    }
   ],
   "source": [
    "# Grabbing multiple columns of data:\n",
    "print('')\n",
    "print('Grabbing multiple columns')\n",
    "print(df[['Name', 'Salary']])  # We must pass it as a list of name columns to the data frame, that's why the double\n",
    "# square brackets"
   ]
  },
  {
   "cell_type": "code",
   "execution_count": 5,
   "id": "21ab74a2",
   "metadata": {},
   "outputs": [
    {
     "name": "stdout",
     "output_type": "stream",
     "text": [
      "\n",
      "Grabbing min, max and mean values from a column\n",
      "Min Salary:  50000\n",
      "Max Salary:  120000\n",
      "Mean Salary:  83333.33333333333\n"
     ]
    }
   ],
   "source": [
    "# Similarly to Numpy, we can grab min, max, mean values from a column\n",
    "print('')\n",
    "print('Grabbing min, max and mean values from a column')\n",
    "print('Min Salary: ', df['Salary'].min())\n",
    "print('Max Salary: ', df['Salary'].max())\n",
    "print('Mean Salary: ', df['Salary'].mean())"
   ]
  },
  {
   "cell_type": "code",
   "execution_count": 6,
   "id": "a654eb9e",
   "metadata": {},
   "outputs": [
    {
     "name": "stdout",
     "output_type": "stream",
     "text": [
      "\n",
      "Conditional filtering\n",
      "0     True\n",
      "1     True\n",
      "2    False\n",
      "Name: Age, dtype: bool\n"
     ]
    }
   ],
   "source": [
    "# Conditional filtering\n",
    "print('')\n",
    "print('Conditional filtering')\n",
    "ser_of_bool = df['Age'] > 30\n",
    "print(ser_of_bool)"
   ]
  },
  {
   "cell_type": "code",
   "execution_count": 8,
   "id": "46b78ce8",
   "metadata": {},
   "outputs": [
    {
     "name": "stdout",
     "output_type": "stream",
     "text": [
      "    Name  Salary  Age\n",
      "0   John   50000   34\n",
      "1  Sally  120000   45\n"
     ]
    }
   ],
   "source": [
    "# Passing them to the data frame allows us to filter:\n",
    "print(df[ser_of_bool])\n"
   ]
  },
  {
   "cell_type": "code",
   "execution_count": 9,
   "id": "d239907c",
   "metadata": {},
   "outputs": [
    {
     "name": "stdout",
     "output_type": "stream",
     "text": [
      "    Name  Salary  Age\n",
      "0   John   50000   34\n",
      "1  Sally  120000   45\n"
     ]
    }
   ],
   "source": [
    "# Exact same thing and most common use:\n",
    "print(df[df['Age'] > 30])\n",
    "# Inside our data frame we are asking which columns contain registries with an age > 30 and printing those results\n"
   ]
  },
  {
   "cell_type": "code",
   "execution_count": 10,
   "id": "99145d04",
   "metadata": {},
   "outputs": [],
   "source": [
    "# Useful methods:"
   ]
  },
  {
   "cell_type": "code",
   "execution_count": 11,
   "id": "6e36fe33",
   "metadata": {},
   "outputs": [
    {
     "name": "stdout",
     "output_type": "stream",
     "text": [
      "Grabing unique values: \n",
      "[34 45 27]\n"
     ]
    }
   ],
   "source": [
    "# Grabing unique values:\n",
    "print('Grabing unique values: ')\n",
    "print(df['Age'].unique())"
   ]
  },
  {
   "cell_type": "code",
   "execution_count": 12,
   "id": "84fd12f8",
   "metadata": {},
   "outputs": [
    {
     "name": "stdout",
     "output_type": "stream",
     "text": [
      "3\n"
     ]
    }
   ],
   "source": [
    "# And we can use nunique to know the lenght of that list\n",
    "print(df['Age'].nunique())"
   ]
  },
  {
   "cell_type": "code",
   "execution_count": 13,
   "id": "3f867bae",
   "metadata": {},
   "outputs": [
    {
     "name": "stdout",
     "output_type": "stream",
     "text": [
      "Index(['Name', 'Salary', 'Age'], dtype='object')\n"
     ]
    }
   ],
   "source": [
    "# Listing the columns\n",
    "print(df.columns)  # notice as this is an attribute of the df and not a method, so it doesnt require '()'\n"
   ]
  },
  {
   "cell_type": "code",
   "execution_count": 14,
   "id": "f080e1aa",
   "metadata": {},
   "outputs": [
    {
     "name": "stdout",
     "output_type": "stream",
     "text": [
      "<class 'pandas.core.frame.DataFrame'>\n",
      "RangeIndex: 3 entries, 0 to 2\n",
      "Data columns (total 3 columns):\n",
      " #   Column  Non-Null Count  Dtype \n",
      "---  ------  --------------  ----- \n",
      " 0   Name    3 non-null      object\n",
      " 1   Salary  3 non-null      int64 \n",
      " 2   Age     3 non-null      int64 \n",
      "dtypes: int64(2), object(1)\n",
      "memory usage: 200.0+ bytes\n",
      "None\n"
     ]
    }
   ],
   "source": [
    "# info() reports back information of our df\n",
    "print(df.info())"
   ]
  },
  {
   "cell_type": "code",
   "execution_count": 15,
   "id": "1982688e",
   "metadata": {},
   "outputs": [
    {
     "name": "stdout",
     "output_type": "stream",
     "text": [
      "              Salary        Age\n",
      "count       3.000000   3.000000\n",
      "mean    83333.333333  35.333333\n",
      "std     35118.845843   9.073772\n",
      "min     50000.000000  27.000000\n",
      "25%     65000.000000  30.500000\n",
      "50%     80000.000000  34.000000\n",
      "75%    100000.000000  39.500000\n",
      "max    120000.000000  45.000000\n"
     ]
    }
   ],
   "source": [
    "# describe() will give us a statistical summary:\n",
    "print(df.describe())"
   ]
  },
  {
   "cell_type": "code",
   "execution_count": 16,
   "id": "ef12d86c",
   "metadata": {},
   "outputs": [
    {
     "name": "stdout",
     "output_type": "stream",
     "text": [
      "RangeIndex(start=0, stop=3, step=1)\n"
     ]
    }
   ],
   "source": [
    "# index -> creates an automatic range index of the df\n",
    "print(df.index)"
   ]
  },
  {
   "cell_type": "code",
   "execution_count": 17,
   "id": "ed22bf44",
   "metadata": {},
   "outputs": [],
   "source": [
    "# MIXING numpy and Pandas"
   ]
  },
  {
   "cell_type": "code",
   "execution_count": 18,
   "id": "e3f992b6",
   "metadata": {},
   "outputs": [
    {
     "name": "stdout",
     "output_type": "stream",
     "text": [
      "[[ 0  1  2  3  4  5  6  7  8  9]\n",
      " [10 11 12 13 14 15 16 17 18 19]\n",
      " [20 21 22 23 24 25 26 27 28 29]\n",
      " [30 31 32 33 34 35 36 37 38 39]\n",
      " [40 41 42 43 44 45 46 47 48 49]]\n"
     ]
    }
   ],
   "source": [
    "mat = np.arange(0, 50).reshape(5, 10)\n",
    "print(mat) # this is a numpy matrix"
   ]
  },
  {
   "cell_type": "code",
   "execution_count": 19,
   "id": "9efc67c1",
   "metadata": {},
   "outputs": [
    {
     "name": "stdout",
     "output_type": "stream",
     "text": [
      "    0   1   2   3   4   5   6   7   8   9\n",
      "0   0   1   2   3   4   5   6   7   8   9\n",
      "1  10  11  12  13  14  15  16  17  18  19\n",
      "2  20  21  22  23  24  25  26  27  28  29\n",
      "3  30  31  32  33  34  35  36  37  38  39\n",
      "4  40  41  42  43  44  45  46  47  48  49\n"
     ]
    }
   ],
   "source": [
    "# We can convert it to a pandas df:\n",
    "new_df = pd.DataFrame(data=mat)\n",
    "print(new_df) # Notice Pandas automatically labels the column names and the index (rows)\n"
   ]
  },
  {
   "cell_type": "code",
   "execution_count": 20,
   "id": "96a42658",
   "metadata": {},
   "outputs": [
    {
     "name": "stdout",
     "output_type": "stream",
     "text": [
      "        A  B\n",
      "Peter   0  1\n",
      "Maria   2  3\n",
      "Nick    4  5\n",
      "Tomas   6  7\n",
      "Jessie  8  9\n"
     ]
    }
   ],
   "source": [
    "# Let's give it another try, providing our own columns name and index:\n",
    "new_mat_2 = np.arange(0, 10).reshape(5, 2)\n",
    "new_df_2 = pd.DataFrame(data=new_mat_2, columns=['A', 'B'], index=['Peter', 'Maria', 'Nick', 'Tomas', 'Jessie'])\n",
    "print(new_df_2)"
   ]
  }
 ],
 "metadata": {
  "kernelspec": {
   "display_name": "Python 3 (ipykernel)",
   "language": "python",
   "name": "python3"
  },
  "language_info": {
   "codemirror_mode": {
    "name": "ipython",
    "version": 3
   },
   "file_extension": ".py",
   "mimetype": "text/x-python",
   "name": "python",
   "nbconvert_exporter": "python",
   "pygments_lexer": "ipython3",
   "version": "3.10.6"
  }
 },
 "nbformat": 4,
 "nbformat_minor": 5
}
